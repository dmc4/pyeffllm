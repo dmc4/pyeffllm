{
 "cells": [
  {
   "cell_type": "code",
   "execution_count": 12,
   "id": "650703e9",
   "metadata": {},
   "outputs": [],
   "source": [
    "import os\n",
    "import pickle\n",
    "\n",
    "from dotenv import load_dotenv\n",
    "from pydantic import BaseModel\n",
    "\n",
    "from coop import AsyncHandler, AsyncSeqLikeHandler, async_\n",
    "from eff import Handler, Operation, coroutine_decorator\n",
    "from llm import (\n",
    "\tAsyncOneRoundChatHandler,\n",
    "\tAsyncReplayLLMHandler,\n",
    "\tLLMHandler,\n",
    "\tOneRoundChatHandler,\n",
    "\tReplayLLMHandler,\n",
    "\tTraceLLMHandler,\n",
    "\tcomplete,\n",
    "\tparse,\n",
    ")\n",
    "from util import Timer, awaitable_args_decorator"
   ]
  },
  {
   "cell_type": "code",
   "execution_count": 13,
   "id": "9afe6e24",
   "metadata": {},
   "outputs": [],
   "source": [
    "# TODO 注意这个！！！\n",
    "import nest_asyncio\n",
    "nest_asyncio.apply()"
   ]
  },
  {
   "cell_type": "code",
   "execution_count": null,
   "id": "8f451fbb",
   "metadata": {},
   "outputs": [],
   "source": [
    "load_dotenv()\n",
    "\n",
    "#BASE_URL = os.getenv(\"BASE_URL\")\n",
    "#API_KEY = os.getenv(\"API_KEY\")\n",
    "\n",
    "#TODO lazy way!! will change!!!\n",
    "BASE_URL='https://api.openai-proxy.org/v1'\n",
    "API_KEY=''\n",
    "\n",
    "MODEL = \"gpt-4o-mini\"\n",
    "TEMPERATURE = 1.0\n",
    "MAX_TOKENS = 1000"
   ]
  },
  {
   "cell_type": "code",
   "execution_count": 15,
   "id": "0e6d542c",
   "metadata": {},
   "outputs": [],
   "source": [
    "import pandas as pd\n",
    "from openai import OpenAI\n",
    "import json\n",
    "import time\n"
   ]
  },
  {
   "cell_type": "code",
   "execution_count": 16,
   "id": "891f454a",
   "metadata": {},
   "outputs": [],
   "source": [
    "client = OpenAI(\n",
    "        base_url=BASE_URL,\n",
    "        api_key=API_KEY,\n",
    "    )"
   ]
  },
  {
   "cell_type": "code",
   "execution_count": 17,
   "id": "439eceed",
   "metadata": {},
   "outputs": [
    {
     "data": {
      "text/html": [
       "<div>\n",
       "<style scoped>\n",
       "    .dataframe tbody tr th:only-of-type {\n",
       "        vertical-align: middle;\n",
       "    }\n",
       "\n",
       "    .dataframe tbody tr th {\n",
       "        vertical-align: top;\n",
       "    }\n",
       "\n",
       "    .dataframe thead th {\n",
       "        text-align: right;\n",
       "    }\n",
       "</style>\n",
       "<table border=\"1\" class=\"dataframe\">\n",
       "  <thead>\n",
       "    <tr style=\"text-align: right;\">\n",
       "      <th></th>\n",
       "      <th>证券代码</th>\n",
       "      <th>证券简称</th>\n",
       "      <th>统计截止日期</th>\n",
       "      <th>列报会计科目</th>\n",
       "      <th>报表类型</th>\n",
       "      <th>项目</th>\n",
       "      <th>本期计入当期损益的金额</th>\n",
       "      <th>上期计入当期损益的金额</th>\n",
       "      <th>与资产相关/与收益相关</th>\n",
       "    </tr>\n",
       "  </thead>\n",
       "  <tbody>\n",
       "    <tr>\n",
       "      <th>0</th>\n",
       "      <td>6</td>\n",
       "      <td>深振业A</td>\n",
       "      <td>2015-12-31</td>\n",
       "      <td>2</td>\n",
       "      <td>1</td>\n",
       "      <td>长沙市岳麓区天顶街道办事处税收奖励金</td>\n",
       "      <td>266250.0</td>\n",
       "      <td>210000.0</td>\n",
       "      <td>NaN</td>\n",
       "    </tr>\n",
       "    <tr>\n",
       "      <th>1</th>\n",
       "      <td>6</td>\n",
       "      <td>深振业A</td>\n",
       "      <td>2015-12-31</td>\n",
       "      <td>2</td>\n",
       "      <td>1</td>\n",
       "      <td>长沙市岳麓区财政局税收奖励金</td>\n",
       "      <td>1660000.0</td>\n",
       "      <td>NaN</td>\n",
       "      <td>NaN</td>\n",
       "    </tr>\n",
       "    <tr>\n",
       "      <th>2</th>\n",
       "      <td>6</td>\n",
       "      <td>深振业A</td>\n",
       "      <td>2015-12-31</td>\n",
       "      <td>2</td>\n",
       "      <td>1</td>\n",
       "      <td>西安浐灞生态区生态宜居示范单位奖励资金</td>\n",
       "      <td>150000.0</td>\n",
       "      <td>NaN</td>\n",
       "      <td>NaN</td>\n",
       "    </tr>\n",
       "    <tr>\n",
       "      <th>3</th>\n",
       "      <td>6</td>\n",
       "      <td>深振业A</td>\n",
       "      <td>2015-12-31</td>\n",
       "      <td>2</td>\n",
       "      <td>1</td>\n",
       "      <td>合计</td>\n",
       "      <td>2076250.0</td>\n",
       "      <td>210000.0</td>\n",
       "      <td>NaN</td>\n",
       "    </tr>\n",
       "    <tr>\n",
       "      <th>4</th>\n",
       "      <td>6</td>\n",
       "      <td>深振业A</td>\n",
       "      <td>2016-12-31</td>\n",
       "      <td>2</td>\n",
       "      <td>1</td>\n",
       "      <td>长沙市岳麓区天顶街道办事处税收奖励金</td>\n",
       "      <td>NaN</td>\n",
       "      <td>266250.0</td>\n",
       "      <td>NaN</td>\n",
       "    </tr>\n",
       "  </tbody>\n",
       "</table>\n",
       "</div>"
      ],
      "text/plain": [
       "   证券代码  证券简称      统计截止日期 列报会计科目  报表类型                   项目  本期计入当期损益的金额  \\\n",
       "0     6  深振业A  2015-12-31      2     1   长沙市岳麓区天顶街道办事处税收奖励金     266250.0   \n",
       "1     6  深振业A  2015-12-31      2     1       长沙市岳麓区财政局税收奖励金    1660000.0   \n",
       "2     6  深振业A  2015-12-31      2     1  西安浐灞生态区生态宜居示范单位奖励资金     150000.0   \n",
       "3     6  深振业A  2015-12-31      2     1                   合计    2076250.0   \n",
       "4     6  深振业A  2016-12-31      2     1   长沙市岳麓区天顶街道办事处税收奖励金          NaN   \n",
       "\n",
       "   上期计入当期损益的金额 与资产相关/与收益相关  \n",
       "0     210000.0         NaN  \n",
       "1          NaN         NaN  \n",
       "2          NaN         NaN  \n",
       "3     210000.0         NaN  \n",
       "4     266250.0         NaN  "
      ]
     },
     "execution_count": 17,
     "metadata": {},
     "output_type": "execute_result"
    }
   ],
   "source": [
    "df = pd.read_excel('subsidy.xlsx')  \n",
    "df.head()\n"
   ]
  },
  {
   "cell_type": "code",
   "execution_count": 18,
   "id": "abaee816",
   "metadata": {},
   "outputs": [
    {
     "data": {
      "text/plain": [
       "(700672, 9)"
      ]
     },
     "execution_count": 18,
     "metadata": {},
     "output_type": "execute_result"
    }
   ],
   "source": [
    "df.shape"
   ]
  },
  {
   "cell_type": "code",
   "execution_count": 19,
   "id": "0a974610",
   "metadata": {},
   "outputs": [
    {
     "data": {
      "text/plain": [
       "(654054, 9)"
      ]
     },
     "execution_count": 19,
     "metadata": {},
     "output_type": "execute_result"
    }
   ],
   "source": [
    "df = df[~df['项目'].astype(str).str.contains('合计', na=False)]\n",
    "df.shape"
   ]
  },
  {
   "cell_type": "code",
   "execution_count": 20,
   "id": "fb7b49d9",
   "metadata": {},
   "outputs": [],
   "source": [
    "df_short = df[0:10]"
   ]
  },
  {
   "cell_type": "code",
   "execution_count": 21,
   "id": "722f0818",
   "metadata": {},
   "outputs": [
    {
     "data": {
      "text/plain": [
       "(10, 9)"
      ]
     },
     "execution_count": 21,
     "metadata": {},
     "output_type": "execute_result"
    }
   ],
   "source": [
    "df_short.shape"
   ]
  },
  {
   "cell_type": "code",
   "execution_count": 28,
   "id": "e3ada317",
   "metadata": {},
   "outputs": [],
   "source": [
    "PROMPT_CLASSIFY = '''你是一名企业财务分析助理，任务是根据补贴或奖励项目名称，判断其属于以下补贴类型之一，并说明理由。\n",
    "\n",
    "请严格按照以下分类标准执行：\n",
    "\n",
    "1. 税收优惠和奖励：与退税、税收减免、税费返还、税收奖励等相关。例如：“税收奖励金”“减免税款”“税收返还”“即征即退”。\n",
    "2. 研发补贴：与生产技术改造、新技术研发、创新资助、技术应用推广、产业化、专利相关。例如：“科技三项经费”“专利资助”“创新项目支持资金”。\n",
    "3. 吸纳人才补贴：与引进人才、研究人员、科研团队、博士后、人才培养相关。例如：“博士后科研资助”“人才引进补贴”“科研人员经费”。\n",
    "4. 产业升级补贴：与工业发展、产业扶持、生产设备更新、产业转型升级相关。例如：“产业发展奖励资金”“生产线改造补贴”“工业转型扶持资金”。\n",
    "5. 项目运营补贴：与企业日常生产经营、土地整理、安全生产、电费、招商引资等有关。例如：“安全生产补贴”“招商引资奖励”“土地补偿资金”。\n",
    "6. 就业补贴：与稳岗、就业、技能培训、职工补贴等有关。例如：“稳岗补贴”“就业奖励金”“技能培训补贴”。\n",
    "7. 贸易补贴：与进出口业务、外贸发展、对外合作、市场拓展相关。例如：“外贸高质量发展资金”“出口奖励资金”“贸易促进基金”。\n",
    "8. 环境保护和治理补贴：与节能环保、清洁生产、绿色发展、污染治理相关。例如：“节能专项资金”“环保设备改造补贴”“绿色生产补助”。\n",
    "9. 信贷补贴：与贷款贴息、融资支持、信贷奖励有关。例如：“贷款贴息”“融资补助”“银行贷款利息补贴”。\n",
    "10. 其他：不属于以上任何一类的项目。\n",
    "\n",
    "请输出严格的 JSON 格式结果（不要包含额外文字或说明）：\n",
    "\n",
    "{\n",
    "  \"project\": \"\",\n",
    "  \"judgement_result\": \"\",  // 从上面10类中选择一个类型\n",
    "  \"reason\": \"\"         // 简要说明分类依据（不超过30字）\n",
    "}\n",
    "\n",
    "项目名称：\n",
    "'''"
   ]
  },
  {
   "cell_type": "code",
   "execution_count": null,
   "id": "e131dfad",
   "metadata": {},
   "outputs": [],
   "source": [
    "def my_rule(project_name):\n",
    "    \"\"\"\n",
    "    调用大模型，根据项目名称返回判断结果与理由。\n",
    "    假设模型返回 JSON 格式字符串，例如：\n",
    "    {\"判断结果\": \"税收相关\", \"reason\": \"名称中含有‘税’字\"}\n",
    "    \"\"\"\n",
    "    # try:\n",
    "        # 构造输入（这里你之后可以自定义 prompt）\n",
    "    if project_name == \"合计\":\n",
    "        return {\n",
    "            \"judgement_result\": \"其它\",\n",
    "            \"reason\": \"合计\"\n",
    "        }\n",
    "\n",
    "        \n",
    "    prompt = PROMPT_CLASSIFY + project_name\n",
    "\n",
    "    # 调用大模型（用最便宜的）\n",
    "    response = client.chat.completions.create(\n",
    "        model=\"gpt-5-nano\",\n",
    "        messages=[\n",
    "            {\"role\": \"system\", \"content\": \"你是一个财务分类助手。\"},\n",
    "            {\"role\": \"user\", \"content\": prompt}\n",
    "        ],\n",
    "        temperature=1,\n",
    "    )\n",
    "\n",
    "    # 提取返回文本\n",
    "    content = response.choices[0].message.content.strip()\n",
    "\n",
    "\n",
    "    # 解析JSON\n",
    "    result = json.loads(content)\n",
    "\n",
    "    # 返回一个 dict 以便多列合并\n",
    "    return {\n",
    "        \"判断结果\": result.get(\"judgement_result\", \"未知\"),\n",
    "        \"reason\": result.get(\"reason\", \"未提供理由\")\n",
    "    }\n",
    "\n",
    "    # except Exception as e:\n",
    "    #     # 错误处理（避免 apply 出错中断）\n",
    "    #     return {\n",
    "    #         \"判断结果\": \"调用出错\",\n",
    "    #         \"reason\": str(e)\n",
    "    #     }\n",
    "\n"
   ]
  },
  {
   "cell_type": "code",
   "execution_count": 32,
   "id": "0c140697",
   "metadata": {},
   "outputs": [
    {
     "ename": "TypeError",
     "evalue": "'ChatCompletion' object is not subscriptable",
     "output_type": "error",
     "traceback": [
      "\u001b[1;31m---------------------------------------------------------------------------\u001b[0m",
      "\u001b[1;31mTypeError\u001b[0m                                 Traceback (most recent call last)",
      "Cell \u001b[1;32mIn[32], line 2\u001b[0m\n\u001b[0;32m      1\u001b[0m start_time \u001b[38;5;241m=\u001b[39m time\u001b[38;5;241m.\u001b[39mtime()  \n\u001b[1;32m----> 2\u001b[0m df_short \u001b[38;5;241m=\u001b[39m df_short\u001b[38;5;241m.\u001b[39mjoin(df_short[\u001b[38;5;124m'\u001b[39m\u001b[38;5;124m项目\u001b[39m\u001b[38;5;124m'\u001b[39m]\u001b[38;5;241m.\u001b[39mapply(\u001b[38;5;28;01mlambda\u001b[39;00m x: pd\u001b[38;5;241m.\u001b[39mSeries(my_rule(x))))\n\u001b[0;32m      3\u001b[0m end_time \u001b[38;5;241m=\u001b[39m time\u001b[38;5;241m.\u001b[39mtime() \n\u001b[0;32m      4\u001b[0m \u001b[38;5;28mprint\u001b[39m(\u001b[38;5;124mf\u001b[39m\u001b[38;5;124m\"\u001b[39m\u001b[38;5;124m耗时：\u001b[39m\u001b[38;5;132;01m{\u001b[39;00mend_time\u001b[38;5;250m \u001b[39m\u001b[38;5;241m-\u001b[39m\u001b[38;5;250m \u001b[39mstart_time\u001b[38;5;132;01m:\u001b[39;00m\u001b[38;5;124m.2f\u001b[39m\u001b[38;5;132;01m}\u001b[39;00m\u001b[38;5;124m 秒\u001b[39m\u001b[38;5;124m\"\u001b[39m)\n",
      "File \u001b[1;32mc:\\ProgramData\\anaconda3\\Lib\\site-packages\\pandas\\core\\series.py:4924\u001b[0m, in \u001b[0;36mSeries.apply\u001b[1;34m(self, func, convert_dtype, args, by_row, **kwargs)\u001b[0m\n\u001b[0;32m   4789\u001b[0m \u001b[38;5;28;01mdef\u001b[39;00m \u001b[38;5;21mapply\u001b[39m(\n\u001b[0;32m   4790\u001b[0m     \u001b[38;5;28mself\u001b[39m,\n\u001b[0;32m   4791\u001b[0m     func: AggFuncType,\n\u001b[1;32m   (...)\u001b[0m\n\u001b[0;32m   4796\u001b[0m     \u001b[38;5;241m*\u001b[39m\u001b[38;5;241m*\u001b[39mkwargs,\n\u001b[0;32m   4797\u001b[0m ) \u001b[38;5;241m-\u001b[39m\u001b[38;5;241m>\u001b[39m DataFrame \u001b[38;5;241m|\u001b[39m Series:\n\u001b[0;32m   4798\u001b[0m \u001b[38;5;250m    \u001b[39m\u001b[38;5;124;03m\"\"\"\u001b[39;00m\n\u001b[0;32m   4799\u001b[0m \u001b[38;5;124;03m    Invoke function on values of Series.\u001b[39;00m\n\u001b[0;32m   4800\u001b[0m \n\u001b[1;32m   (...)\u001b[0m\n\u001b[0;32m   4915\u001b[0m \u001b[38;5;124;03m    dtype: float64\u001b[39;00m\n\u001b[0;32m   4916\u001b[0m \u001b[38;5;124;03m    \"\"\"\u001b[39;00m\n\u001b[0;32m   4917\u001b[0m     \u001b[38;5;28;01mreturn\u001b[39;00m SeriesApply(\n\u001b[0;32m   4918\u001b[0m         \u001b[38;5;28mself\u001b[39m,\n\u001b[0;32m   4919\u001b[0m         func,\n\u001b[0;32m   4920\u001b[0m         convert_dtype\u001b[38;5;241m=\u001b[39mconvert_dtype,\n\u001b[0;32m   4921\u001b[0m         by_row\u001b[38;5;241m=\u001b[39mby_row,\n\u001b[0;32m   4922\u001b[0m         args\u001b[38;5;241m=\u001b[39margs,\n\u001b[0;32m   4923\u001b[0m         kwargs\u001b[38;5;241m=\u001b[39mkwargs,\n\u001b[1;32m-> 4924\u001b[0m     )\u001b[38;5;241m.\u001b[39mapply()\n",
      "File \u001b[1;32mc:\\ProgramData\\anaconda3\\Lib\\site-packages\\pandas\\core\\apply.py:1427\u001b[0m, in \u001b[0;36mSeriesApply.apply\u001b[1;34m(self)\u001b[0m\n\u001b[0;32m   1424\u001b[0m     \u001b[38;5;28;01mreturn\u001b[39;00m \u001b[38;5;28mself\u001b[39m\u001b[38;5;241m.\u001b[39mapply_compat()\n\u001b[0;32m   1426\u001b[0m \u001b[38;5;66;03m# self.func is Callable\u001b[39;00m\n\u001b[1;32m-> 1427\u001b[0m \u001b[38;5;28;01mreturn\u001b[39;00m \u001b[38;5;28mself\u001b[39m\u001b[38;5;241m.\u001b[39mapply_standard()\n",
      "File \u001b[1;32mc:\\ProgramData\\anaconda3\\Lib\\site-packages\\pandas\\core\\apply.py:1507\u001b[0m, in \u001b[0;36mSeriesApply.apply_standard\u001b[1;34m(self)\u001b[0m\n\u001b[0;32m   1501\u001b[0m \u001b[38;5;66;03m# row-wise access\u001b[39;00m\n\u001b[0;32m   1502\u001b[0m \u001b[38;5;66;03m# apply doesn't have a `na_action` keyword and for backward compat reasons\u001b[39;00m\n\u001b[0;32m   1503\u001b[0m \u001b[38;5;66;03m# we need to give `na_action=\"ignore\"` for categorical data.\u001b[39;00m\n\u001b[0;32m   1504\u001b[0m \u001b[38;5;66;03m# TODO: remove the `na_action=\"ignore\"` when that default has been changed in\u001b[39;00m\n\u001b[0;32m   1505\u001b[0m \u001b[38;5;66;03m#  Categorical (GH51645).\u001b[39;00m\n\u001b[0;32m   1506\u001b[0m action \u001b[38;5;241m=\u001b[39m \u001b[38;5;124m\"\u001b[39m\u001b[38;5;124mignore\u001b[39m\u001b[38;5;124m\"\u001b[39m \u001b[38;5;28;01mif\u001b[39;00m \u001b[38;5;28misinstance\u001b[39m(obj\u001b[38;5;241m.\u001b[39mdtype, CategoricalDtype) \u001b[38;5;28;01melse\u001b[39;00m \u001b[38;5;28;01mNone\u001b[39;00m\n\u001b[1;32m-> 1507\u001b[0m mapped \u001b[38;5;241m=\u001b[39m obj\u001b[38;5;241m.\u001b[39m_map_values(\n\u001b[0;32m   1508\u001b[0m     mapper\u001b[38;5;241m=\u001b[39mcurried, na_action\u001b[38;5;241m=\u001b[39maction, convert\u001b[38;5;241m=\u001b[39m\u001b[38;5;28mself\u001b[39m\u001b[38;5;241m.\u001b[39mconvert_dtype\n\u001b[0;32m   1509\u001b[0m )\n\u001b[0;32m   1511\u001b[0m \u001b[38;5;28;01mif\u001b[39;00m \u001b[38;5;28mlen\u001b[39m(mapped) \u001b[38;5;129;01mand\u001b[39;00m \u001b[38;5;28misinstance\u001b[39m(mapped[\u001b[38;5;241m0\u001b[39m], ABCSeries):\n\u001b[0;32m   1512\u001b[0m     \u001b[38;5;66;03m# GH#43986 Need to do list(mapped) in order to get treated as nested\u001b[39;00m\n\u001b[0;32m   1513\u001b[0m     \u001b[38;5;66;03m#  See also GH#25959 regarding EA support\u001b[39;00m\n\u001b[0;32m   1514\u001b[0m     \u001b[38;5;28;01mreturn\u001b[39;00m obj\u001b[38;5;241m.\u001b[39m_constructor_expanddim(\u001b[38;5;28mlist\u001b[39m(mapped), index\u001b[38;5;241m=\u001b[39mobj\u001b[38;5;241m.\u001b[39mindex)\n",
      "File \u001b[1;32mc:\\ProgramData\\anaconda3\\Lib\\site-packages\\pandas\\core\\base.py:921\u001b[0m, in \u001b[0;36mIndexOpsMixin._map_values\u001b[1;34m(self, mapper, na_action, convert)\u001b[0m\n\u001b[0;32m    918\u001b[0m \u001b[38;5;28;01mif\u001b[39;00m \u001b[38;5;28misinstance\u001b[39m(arr, ExtensionArray):\n\u001b[0;32m    919\u001b[0m     \u001b[38;5;28;01mreturn\u001b[39;00m arr\u001b[38;5;241m.\u001b[39mmap(mapper, na_action\u001b[38;5;241m=\u001b[39mna_action)\n\u001b[1;32m--> 921\u001b[0m \u001b[38;5;28;01mreturn\u001b[39;00m algorithms\u001b[38;5;241m.\u001b[39mmap_array(arr, mapper, na_action\u001b[38;5;241m=\u001b[39mna_action, convert\u001b[38;5;241m=\u001b[39mconvert)\n",
      "File \u001b[1;32mc:\\ProgramData\\anaconda3\\Lib\\site-packages\\pandas\\core\\algorithms.py:1743\u001b[0m, in \u001b[0;36mmap_array\u001b[1;34m(arr, mapper, na_action, convert)\u001b[0m\n\u001b[0;32m   1741\u001b[0m values \u001b[38;5;241m=\u001b[39m arr\u001b[38;5;241m.\u001b[39mastype(\u001b[38;5;28mobject\u001b[39m, copy\u001b[38;5;241m=\u001b[39m\u001b[38;5;28;01mFalse\u001b[39;00m)\n\u001b[0;32m   1742\u001b[0m \u001b[38;5;28;01mif\u001b[39;00m na_action \u001b[38;5;129;01mis\u001b[39;00m \u001b[38;5;28;01mNone\u001b[39;00m:\n\u001b[1;32m-> 1743\u001b[0m     \u001b[38;5;28;01mreturn\u001b[39;00m lib\u001b[38;5;241m.\u001b[39mmap_infer(values, mapper, convert\u001b[38;5;241m=\u001b[39mconvert)\n\u001b[0;32m   1744\u001b[0m \u001b[38;5;28;01melse\u001b[39;00m:\n\u001b[0;32m   1745\u001b[0m     \u001b[38;5;28;01mreturn\u001b[39;00m lib\u001b[38;5;241m.\u001b[39mmap_infer_mask(\n\u001b[0;32m   1746\u001b[0m         values, mapper, mask\u001b[38;5;241m=\u001b[39misna(values)\u001b[38;5;241m.\u001b[39mview(np\u001b[38;5;241m.\u001b[39muint8), convert\u001b[38;5;241m=\u001b[39mconvert\n\u001b[0;32m   1747\u001b[0m     )\n",
      "File \u001b[1;32mlib.pyx:2972\u001b[0m, in \u001b[0;36mpandas._libs.lib.map_infer\u001b[1;34m()\u001b[0m\n",
      "Cell \u001b[1;32mIn[32], line 2\u001b[0m, in \u001b[0;36m<lambda>\u001b[1;34m(x)\u001b[0m\n\u001b[0;32m      1\u001b[0m start_time \u001b[38;5;241m=\u001b[39m time\u001b[38;5;241m.\u001b[39mtime()  \n\u001b[1;32m----> 2\u001b[0m df_short \u001b[38;5;241m=\u001b[39m df_short\u001b[38;5;241m.\u001b[39mjoin(df_short[\u001b[38;5;124m'\u001b[39m\u001b[38;5;124m项目\u001b[39m\u001b[38;5;124m'\u001b[39m]\u001b[38;5;241m.\u001b[39mapply(\u001b[38;5;28;01mlambda\u001b[39;00m x: pd\u001b[38;5;241m.\u001b[39mSeries(my_rule(x))))\n\u001b[0;32m      3\u001b[0m end_time \u001b[38;5;241m=\u001b[39m time\u001b[38;5;241m.\u001b[39mtime() \n\u001b[0;32m      4\u001b[0m \u001b[38;5;28mprint\u001b[39m(\u001b[38;5;124mf\u001b[39m\u001b[38;5;124m\"\u001b[39m\u001b[38;5;124m耗时：\u001b[39m\u001b[38;5;132;01m{\u001b[39;00mend_time\u001b[38;5;250m \u001b[39m\u001b[38;5;241m-\u001b[39m\u001b[38;5;250m \u001b[39mstart_time\u001b[38;5;132;01m:\u001b[39;00m\u001b[38;5;124m.2f\u001b[39m\u001b[38;5;132;01m}\u001b[39;00m\u001b[38;5;124m 秒\u001b[39m\u001b[38;5;124m\"\u001b[39m)\n",
      "Cell \u001b[1;32mIn[31], line 29\u001b[0m, in \u001b[0;36mmy_rule\u001b[1;34m(project_name)\u001b[0m\n\u001b[0;32m     19\u001b[0m response \u001b[38;5;241m=\u001b[39m client\u001b[38;5;241m.\u001b[39mchat\u001b[38;5;241m.\u001b[39mcompletions\u001b[38;5;241m.\u001b[39mcreate(\n\u001b[0;32m     20\u001b[0m     model\u001b[38;5;241m=\u001b[39m\u001b[38;5;124m\"\u001b[39m\u001b[38;5;124mgpt-5-nano\u001b[39m\u001b[38;5;124m\"\u001b[39m,\n\u001b[0;32m     21\u001b[0m     messages\u001b[38;5;241m=\u001b[39m[\n\u001b[1;32m   (...)\u001b[0m\n\u001b[0;32m     25\u001b[0m     temperature\u001b[38;5;241m=\u001b[39m\u001b[38;5;241m1\u001b[39m,\n\u001b[0;32m     26\u001b[0m )\n\u001b[0;32m     28\u001b[0m \u001b[38;5;66;03m# 提取返回文本\u001b[39;00m\n\u001b[1;32m---> 29\u001b[0m content \u001b[38;5;241m=\u001b[39m response[\u001b[38;5;124m\"\u001b[39m\u001b[38;5;124mchoices\u001b[39m\u001b[38;5;124m\"\u001b[39m][\u001b[38;5;241m0\u001b[39m][\u001b[38;5;124m\"\u001b[39m\u001b[38;5;124mmessage\u001b[39m\u001b[38;5;124m\"\u001b[39m][\u001b[38;5;124m\"\u001b[39m\u001b[38;5;124mcontent\u001b[39m\u001b[38;5;124m\"\u001b[39m]\u001b[38;5;241m.\u001b[39mstrip()\n\u001b[0;32m     31\u001b[0m \u001b[38;5;66;03m# 解析JSON\u001b[39;00m\n\u001b[0;32m     32\u001b[0m result \u001b[38;5;241m=\u001b[39m json\u001b[38;5;241m.\u001b[39mloads(content)\n",
      "\u001b[1;31mTypeError\u001b[0m: 'ChatCompletion' object is not subscriptable"
     ]
    }
   ],
   "source": [
    "start_time = time.time()  \n",
    "df_short = df_short.join(df_short['项目'].apply(lambda x: pd.Series(my_rule(x))))\n",
    "end_time = time.time() \n",
    "print(f\"耗时：{end_time - start_time:.2f} 秒\")\n"
   ]
  },
  {
   "cell_type": "code",
   "execution_count": null,
   "id": "fd188f8e",
   "metadata": {},
   "outputs": [
    {
     "data": {
      "text/html": [
       "<div>\n",
       "<style scoped>\n",
       "    .dataframe tbody tr th:only-of-type {\n",
       "        vertical-align: middle;\n",
       "    }\n",
       "\n",
       "    .dataframe tbody tr th {\n",
       "        vertical-align: top;\n",
       "    }\n",
       "\n",
       "    .dataframe thead th {\n",
       "        text-align: right;\n",
       "    }\n",
       "</style>\n",
       "<table border=\"1\" class=\"dataframe\">\n",
       "  <thead>\n",
       "    <tr style=\"text-align: right;\">\n",
       "      <th></th>\n",
       "      <th>证券代码</th>\n",
       "      <th>证券简称</th>\n",
       "      <th>统计截止日期</th>\n",
       "      <th>列报会计科目</th>\n",
       "      <th>报表类型</th>\n",
       "      <th>项目</th>\n",
       "      <th>本期计入当期损益的金额</th>\n",
       "      <th>上期计入当期损益的金额</th>\n",
       "      <th>与资产相关/与收益相关</th>\n",
       "      <th>判断结果</th>\n",
       "      <th>reason</th>\n",
       "    </tr>\n",
       "  </thead>\n",
       "  <tbody>\n",
       "    <tr>\n",
       "      <th>1</th>\n",
       "      <td>6</td>\n",
       "      <td>深振业A</td>\n",
       "      <td>2015-12-31</td>\n",
       "      <td>2</td>\n",
       "      <td>1</td>\n",
       "      <td>长沙市岳麓区财政局税收奖励金</td>\n",
       "      <td>1660000.0</td>\n",
       "      <td>NaN</td>\n",
       "      <td>NaN</td>\n",
       "      <td>其他</td>\n",
       "      <td>未匹配关键字</td>\n",
       "    </tr>\n",
       "    <tr>\n",
       "      <th>2</th>\n",
       "      <td>6</td>\n",
       "      <td>深振业A</td>\n",
       "      <td>2015-12-31</td>\n",
       "      <td>2</td>\n",
       "      <td>1</td>\n",
       "      <td>西安浐灞生态区生态宜居示范单位奖励资金</td>\n",
       "      <td>150000.0</td>\n",
       "      <td>NaN</td>\n",
       "      <td>NaN</td>\n",
       "      <td>其他</td>\n",
       "      <td>未匹配关键字</td>\n",
       "    </tr>\n",
       "    <tr>\n",
       "      <th>3</th>\n",
       "      <td>6</td>\n",
       "      <td>深振业A</td>\n",
       "      <td>2015-12-31</td>\n",
       "      <td>2</td>\n",
       "      <td>1</td>\n",
       "      <td>合计</td>\n",
       "      <td>2076250.0</td>\n",
       "      <td>210000.0</td>\n",
       "      <td>NaN</td>\n",
       "      <td>其他</td>\n",
       "      <td>未匹配关键字</td>\n",
       "    </tr>\n",
       "    <tr>\n",
       "      <th>4</th>\n",
       "      <td>6</td>\n",
       "      <td>深振业A</td>\n",
       "      <td>2016-12-31</td>\n",
       "      <td>2</td>\n",
       "      <td>1</td>\n",
       "      <td>长沙市岳麓区天顶街道办事处税收奖励金</td>\n",
       "      <td>NaN</td>\n",
       "      <td>266250.0</td>\n",
       "      <td>NaN</td>\n",
       "      <td>其他</td>\n",
       "      <td>未匹配关键字</td>\n",
       "    </tr>\n",
       "    <tr>\n",
       "      <th>5</th>\n",
       "      <td>6</td>\n",
       "      <td>深振业A</td>\n",
       "      <td>2016-12-31</td>\n",
       "      <td>2</td>\n",
       "      <td>1</td>\n",
       "      <td>长沙市岳麓区财政局税收奖励金</td>\n",
       "      <td>NaN</td>\n",
       "      <td>1660000.0</td>\n",
       "      <td>NaN</td>\n",
       "      <td>其他</td>\n",
       "      <td>未匹配关键字</td>\n",
       "    </tr>\n",
       "  </tbody>\n",
       "</table>\n",
       "</div>"
      ],
      "text/plain": [
       "   证券代码  证券简称      统计截止日期 列报会计科目  报表类型                   项目  本期计入当期损益的金额  \\\n",
       "1     6  深振业A  2015-12-31      2     1       长沙市岳麓区财政局税收奖励金    1660000.0   \n",
       "2     6  深振业A  2015-12-31      2     1  西安浐灞生态区生态宜居示范单位奖励资金     150000.0   \n",
       "3     6  深振业A  2015-12-31      2     1                   合计    2076250.0   \n",
       "4     6  深振业A  2016-12-31      2     1   长沙市岳麓区天顶街道办事处税收奖励金          NaN   \n",
       "5     6  深振业A  2016-12-31      2     1       长沙市岳麓区财政局税收奖励金          NaN   \n",
       "\n",
       "   上期计入当期损益的金额 与资产相关/与收益相关 判断结果  reason  \n",
       "1          NaN         NaN   其他  未匹配关键字  \n",
       "2          NaN         NaN   其他  未匹配关键字  \n",
       "3     210000.0         NaN   其他  未匹配关键字  \n",
       "4     266250.0         NaN   其他  未匹配关键字  \n",
       "5    1660000.0         NaN   其他  未匹配关键字  "
      ]
     },
     "execution_count": 28,
     "metadata": {},
     "output_type": "execute_result"
    }
   ],
   "source": [
    "df_short.head()"
   ]
  },
  {
   "cell_type": "code",
   "execution_count": null,
   "id": "90965e2d",
   "metadata": {},
   "outputs": [],
   "source": []
  }
 ],
 "metadata": {
  "kernelspec": {
   "display_name": "base",
   "language": "python",
   "name": "python3"
  },
  "language_info": {
   "codemirror_mode": {
    "name": "ipython",
    "version": 3
   },
   "file_extension": ".py",
   "mimetype": "text/x-python",
   "name": "python",
   "nbconvert_exporter": "python",
   "pygments_lexer": "ipython3",
   "version": "3.11.5"
  }
 },
 "nbformat": 4,
 "nbformat_minor": 5
}
